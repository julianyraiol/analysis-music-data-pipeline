{
 "cells": [
  {
   "cell_type": "markdown",
   "metadata": {},
   "source": [
    "## Análise básica dos links do Spotify"
   ]
  },
  {
   "cell_type": "code",
   "execution_count": 1,
   "metadata": {},
   "outputs": [],
   "source": [
    "import pandas as pd\n",
    "import seaborn as sns\n",
    "import matplotlib.pyplot as plt"
   ]
  },
  {
   "cell_type": "code",
   "execution_count": 2,
   "metadata": {},
   "outputs": [
    {
     "data": {
      "text/html": [
       "<div>\n",
       "<style scoped>\n",
       "    .dataframe tbody tr th:only-of-type {\n",
       "        vertical-align: middle;\n",
       "    }\n",
       "\n",
       "    .dataframe tbody tr th {\n",
       "        vertical-align: top;\n",
       "    }\n",
       "\n",
       "    .dataframe thead th {\n",
       "        text-align: right;\n",
       "    }\n",
       "</style>\n",
       "<table border=\"1\" class=\"dataframe\">\n",
       "  <thead>\n",
       "    <tr style=\"text-align: right;\">\n",
       "      <th></th>\n",
       "      <th>SINCE_DATE</th>\n",
       "      <th>UNITIL_DATE</th>\n",
       "      <th>SPOTIFY_URL</th>\n",
       "      <th>TYPE_URL</th>\n",
       "    </tr>\n",
       "  </thead>\n",
       "  <tbody>\n",
       "    <tr>\n",
       "      <th>0</th>\n",
       "      <td>MARCH</td>\n",
       "      <td>MARCH</td>\n",
       "      <td>https://open.spotify.com/track/2CNJMsnYnuOVog1...</td>\n",
       "      <td>track</td>\n",
       "    </tr>\n",
       "    <tr>\n",
       "      <th>1</th>\n",
       "      <td>MARCH</td>\n",
       "      <td>MARCH</td>\n",
       "      <td>https://track.adform.net/C/?bn=41279147%0A</td>\n",
       "      <td>other</td>\n",
       "    </tr>\n",
       "    <tr>\n",
       "      <th>2</th>\n",
       "      <td>MARCH</td>\n",
       "      <td>MARCH</td>\n",
       "      <td>https://open.spotify.com/track/6X7H3JTAUGAL1rS...</td>\n",
       "      <td>track</td>\n",
       "    </tr>\n",
       "    <tr>\n",
       "      <th>3</th>\n",
       "      <td>MARCH</td>\n",
       "      <td>MARCH</td>\n",
       "      <td>https://open.spotify.com/track/11OwAR3GlBj9E35...</td>\n",
       "      <td>track</td>\n",
       "    </tr>\n",
       "    <tr>\n",
       "      <th>4</th>\n",
       "      <td>MARCH</td>\n",
       "      <td>MARCH</td>\n",
       "      <td>https://open.spotify.com/track/4258fiEd2cnCC5d...</td>\n",
       "      <td>track</td>\n",
       "    </tr>\n",
       "  </tbody>\n",
       "</table>\n",
       "</div>"
      ],
      "text/plain": [
       "  SINCE_DATE UNITIL_DATE                                        SPOTIFY_URL  \\\n",
       "0      MARCH       MARCH  https://open.spotify.com/track/2CNJMsnYnuOVog1...   \n",
       "1      MARCH       MARCH         https://track.adform.net/C/?bn=41279147%0A   \n",
       "2      MARCH       MARCH  https://open.spotify.com/track/6X7H3JTAUGAL1rS...   \n",
       "3      MARCH       MARCH  https://open.spotify.com/track/11OwAR3GlBj9E35...   \n",
       "4      MARCH       MARCH  https://open.spotify.com/track/4258fiEd2cnCC5d...   \n",
       "\n",
       "  TYPE_URL  \n",
       "0    track  \n",
       "1    other  \n",
       "2    track  \n",
       "3    track  \n",
       "4    track  "
      ]
     },
     "execution_count": 2,
     "metadata": {},
     "output_type": "execute_result"
    }
   ],
   "source": [
    "df3 = pd.read_csv(\"../data/data_3.csv\")\n",
    "df4 = pd.read_csv(\"../data/data_4.csv\")\n",
    "df5 = pd.read_csv(\"../data/data_5.csv\")\n",
    "df6 = pd.read_csv(\"../data/data_6.csv\")\n",
    "\n",
    "\n",
    "df = pd.concat([df3, df4, df5, df6], join='inner')\n",
    "\n",
    "df.head()"
   ]
  },
  {
   "cell_type": "code",
   "execution_count": 3,
   "metadata": {},
   "outputs": [
    {
     "name": "stdout",
     "output_type": "stream",
     "text": [
      "<class 'pandas.core.frame.DataFrame'>\n",
      "Int64Index: 8059 entries, 0 to 2369\n",
      "Data columns (total 4 columns):\n",
      " #   Column       Non-Null Count  Dtype \n",
      "---  ------       --------------  ----- \n",
      " 0   SINCE_DATE   8059 non-null   object\n",
      " 1   UNITIL_DATE  8059 non-null   object\n",
      " 2   SPOTIFY_URL  8059 non-null   object\n",
      " 3   TYPE_URL     8059 non-null   object\n",
      "dtypes: object(4)\n",
      "memory usage: 314.8+ KB\n"
     ]
    }
   ],
   "source": [
    "df.info()"
   ]
  },
  {
   "cell_type": "markdown",
   "metadata": {},
   "source": [
    "Coletando apenas URLS do Spotify"
   ]
  },
  {
   "cell_type": "code",
   "execution_count": 4,
   "metadata": {},
   "outputs": [],
   "source": [
    "query_url = df[\"SPOTIFY_URL\"].apply(lambda x : 1 if (\"spotify\" in x) else 0)"
   ]
  },
  {
   "cell_type": "code",
   "execution_count": 5,
   "metadata": {},
   "outputs": [],
   "source": [
    "df.drop(query_url, inplace=True)"
   ]
  },
  {
   "cell_type": "code",
   "execution_count": 6,
   "metadata": {},
   "outputs": [
    {
     "data": {
      "text/html": [
       "<div>\n",
       "<style scoped>\n",
       "    .dataframe tbody tr th:only-of-type {\n",
       "        vertical-align: middle;\n",
       "    }\n",
       "\n",
       "    .dataframe tbody tr th {\n",
       "        vertical-align: top;\n",
       "    }\n",
       "\n",
       "    .dataframe thead th {\n",
       "        text-align: right;\n",
       "    }\n",
       "</style>\n",
       "<table border=\"1\" class=\"dataframe\">\n",
       "  <thead>\n",
       "    <tr style=\"text-align: right;\">\n",
       "      <th></th>\n",
       "      <th>SINCE_DATE</th>\n",
       "      <th>UNITIL_DATE</th>\n",
       "      <th>SPOTIFY_URL</th>\n",
       "      <th>TYPE_URL</th>\n",
       "    </tr>\n",
       "  </thead>\n",
       "  <tbody>\n",
       "    <tr>\n",
       "      <th>2</th>\n",
       "      <td>MARCH</td>\n",
       "      <td>MARCH</td>\n",
       "      <td>https://open.spotify.com/track/6X7H3JTAUGAL1rS...</td>\n",
       "      <td>track</td>\n",
       "    </tr>\n",
       "    <tr>\n",
       "      <th>3</th>\n",
       "      <td>MARCH</td>\n",
       "      <td>MARCH</td>\n",
       "      <td>https://open.spotify.com/track/11OwAR3GlBj9E35...</td>\n",
       "      <td>track</td>\n",
       "    </tr>\n",
       "    <tr>\n",
       "      <th>4</th>\n",
       "      <td>MARCH</td>\n",
       "      <td>MARCH</td>\n",
       "      <td>https://open.spotify.com/track/4258fiEd2cnCC5d...</td>\n",
       "      <td>track</td>\n",
       "    </tr>\n",
       "    <tr>\n",
       "      <th>5</th>\n",
       "      <td>MARCH</td>\n",
       "      <td>MARCH</td>\n",
       "      <td>https://open.spotify.com/track/0M955bMOoilikPX...</td>\n",
       "      <td>track</td>\n",
       "    </tr>\n",
       "    <tr>\n",
       "      <th>6</th>\n",
       "      <td>MARCH</td>\n",
       "      <td>MARCH</td>\n",
       "      <td>https://open.spotify.com/track/6m5ucBSM6b5saQv...</td>\n",
       "      <td>track</td>\n",
       "    </tr>\n",
       "  </tbody>\n",
       "</table>\n",
       "</div>"
      ],
      "text/plain": [
       "  SINCE_DATE UNITIL_DATE                                        SPOTIFY_URL  \\\n",
       "2      MARCH       MARCH  https://open.spotify.com/track/6X7H3JTAUGAL1rS...   \n",
       "3      MARCH       MARCH  https://open.spotify.com/track/11OwAR3GlBj9E35...   \n",
       "4      MARCH       MARCH  https://open.spotify.com/track/4258fiEd2cnCC5d...   \n",
       "5      MARCH       MARCH  https://open.spotify.com/track/0M955bMOoilikPX...   \n",
       "6      MARCH       MARCH  https://open.spotify.com/track/6m5ucBSM6b5saQv...   \n",
       "\n",
       "  TYPE_URL  \n",
       "2    track  \n",
       "3    track  \n",
       "4    track  \n",
       "5    track  \n",
       "6    track  "
      ]
     },
     "execution_count": 6,
     "metadata": {},
     "output_type": "execute_result"
    }
   ],
   "source": [
    "df.head()"
   ]
  },
  {
   "cell_type": "code",
   "execution_count": 7,
   "metadata": {},
   "outputs": [
    {
     "name": "stdout",
     "output_type": "stream",
     "text": [
      "<class 'pandas.core.frame.DataFrame'>\n",
      "Int64Index: 8051 entries, 2 to 2369\n",
      "Data columns (total 4 columns):\n",
      " #   Column       Non-Null Count  Dtype \n",
      "---  ------       --------------  ----- \n",
      " 0   SINCE_DATE   8051 non-null   object\n",
      " 1   UNITIL_DATE  8051 non-null   object\n",
      " 2   SPOTIFY_URL  8051 non-null   object\n",
      " 3   TYPE_URL     8051 non-null   object\n",
      "dtypes: object(4)\n",
      "memory usage: 314.5+ KB\n"
     ]
    }
   ],
   "source": [
    "df.info()"
   ]
  },
  {
   "cell_type": "code",
   "execution_count": 8,
   "metadata": {},
   "outputs": [
    {
     "data": {
      "text/html": [
       "<div>\n",
       "<style scoped>\n",
       "    .dataframe tbody tr th:only-of-type {\n",
       "        vertical-align: middle;\n",
       "    }\n",
       "\n",
       "    .dataframe tbody tr th {\n",
       "        vertical-align: top;\n",
       "    }\n",
       "\n",
       "    .dataframe thead th {\n",
       "        text-align: right;\n",
       "    }\n",
       "</style>\n",
       "<table border=\"1\" class=\"dataframe\">\n",
       "  <thead>\n",
       "    <tr style=\"text-align: right;\">\n",
       "      <th></th>\n",
       "      <th>TYPE_URL</th>\n",
       "      <th>COUNT</th>\n",
       "    </tr>\n",
       "  </thead>\n",
       "  <tbody>\n",
       "    <tr>\n",
       "      <th>4</th>\n",
       "      <td>track</td>\n",
       "      <td>5723</td>\n",
       "    </tr>\n",
       "    <tr>\n",
       "      <th>3</th>\n",
       "      <td>playlist</td>\n",
       "      <td>929</td>\n",
       "    </tr>\n",
       "    <tr>\n",
       "      <th>0</th>\n",
       "      <td>album</td>\n",
       "      <td>837</td>\n",
       "    </tr>\n",
       "    <tr>\n",
       "      <th>2</th>\n",
       "      <td>other</td>\n",
       "      <td>467</td>\n",
       "    </tr>\n",
       "    <tr>\n",
       "      <th>1</th>\n",
       "      <td>artist</td>\n",
       "      <td>95</td>\n",
       "    </tr>\n",
       "  </tbody>\n",
       "</table>\n",
       "</div>"
      ],
      "text/plain": [
       "   TYPE_URL  COUNT\n",
       "4     track   5723\n",
       "3  playlist    929\n",
       "0     album    837\n",
       "2     other    467\n",
       "1    artist     95"
      ]
     },
     "execution_count": 8,
     "metadata": {},
     "output_type": "execute_result"
    }
   ],
   "source": [
    "type_url = df.groupby(\"TYPE_URL\").size().reset_index(name='COUNT').sort_values([\"COUNT\"], ascending=False)\n",
    "type_url"
   ]
  },
  {
   "cell_type": "code",
   "execution_count": 9,
   "metadata": {},
   "outputs": [
    {
     "data": {
      "image/png": "[encoded data removed]",
      "text/plain": [
       "<Figure size 576x432 with 1 Axes>"
      ]
     },
     "metadata": {
      "needs_background": "light"
     },
     "output_type": "display_data"
    }
   ],
   "source": [
    "plt.subplots(figsize=(8, 6))\n",
    "\n",
    "sns.set_color_codes(\"pastel\")\n",
    "sns.barplot(x=\"TYPE_URL\", y=\"COUNT\", data=type_url,\n",
    "            label=\"Total\", color=\"b\")\n",
    "plt.show()"
   ]
  },
  {
   "cell_type": "markdown",
   "metadata": {},
   "source": [
    "## Trabalhando com a API do Spotify"
   ]
  },
  {
   "cell_type": "code",
   "execution_count": 10,
   "metadata": {},
   "outputs": [],
   "source": [
    "import spotipy\n",
    "from spotipy.oauth2 import SpotifyClientCredentials"
   ]
  },
  {
   "cell_type": "code",
   "execution_count": 11,
   "metadata": {},
   "outputs": [],
   "source": [
    "SPOTIPY_CLIENT_ID = \"b391ac85c601490c97f5543085f9421c\"\n",
    "SPOTIPY_CLIENT_SECRET = \"bc62935c90c242e0ab32ee08a2e5c404\"\n",
    "\n",
    "sp = spotipy.Spotify(client_credentials_manager = SpotifyClientCredentials(client_id=SPOTIPY_CLIENT_ID, client_secret=SPOTIPY_CLIENT_SECRET))"
   ]
  },
  {
   "cell_type": "markdown",
   "metadata": {},
   "source": [
    "Coletando apenas as urls de música. Estas são identificadas pelo termo **track** na string."
   ]
  },
  {
   "cell_type": "code",
   "execution_count": 14,
   "metadata": {},
   "outputs": [
    {
     "data": {
      "text/html": [
       "<div>\n",
       "<style scoped>\n",
       "    .dataframe tbody tr th:only-of-type {\n",
       "        vertical-align: middle;\n",
       "    }\n",
       "\n",
       "    .dataframe tbody tr th {\n",
       "        vertical-align: top;\n",
       "    }\n",
       "\n",
       "    .dataframe thead th {\n",
       "        text-align: right;\n",
       "    }\n",
       "</style>\n",
       "<table border=\"1\" class=\"dataframe\">\n",
       "  <thead>\n",
       "    <tr style=\"text-align: right;\">\n",
       "      <th></th>\n",
       "      <th>SINCE_DATE</th>\n",
       "      <th>UNITIL_DATE</th>\n",
       "      <th>SPOTIFY_URL</th>\n",
       "      <th>TYPE_URL</th>\n",
       "    </tr>\n",
       "  </thead>\n",
       "  <tbody>\n",
       "    <tr>\n",
       "      <th>42</th>\n",
       "      <td>MARCH</td>\n",
       "      <td>MARCH</td>\n",
       "      <td>https://open.spotify.com/artist/2DlbynS2Y7OsNE...</td>\n",
       "      <td>artist</td>\n",
       "    </tr>\n",
       "    <tr>\n",
       "      <th>110</th>\n",
       "      <td>MARCH</td>\n",
       "      <td>MARCH</td>\n",
       "      <td>https://open.spotify.com/artist/28ij3pyntAbYO9...</td>\n",
       "      <td>artist</td>\n",
       "    </tr>\n",
       "    <tr>\n",
       "      <th>164</th>\n",
       "      <td>MARCH</td>\n",
       "      <td>MARCH</td>\n",
       "      <td>https://open.spotify.com/artist/1hRs60foVmjwBi...</td>\n",
       "      <td>artist</td>\n",
       "    </tr>\n",
       "    <tr>\n",
       "      <th>244</th>\n",
       "      <td>MARCH</td>\n",
       "      <td>MARCH</td>\n",
       "      <td>https://open.spotify.com/artist/7yibHBJHi3LZD0...</td>\n",
       "      <td>artist</td>\n",
       "    </tr>\n",
       "    <tr>\n",
       "      <th>248</th>\n",
       "      <td>MARCH</td>\n",
       "      <td>MARCH</td>\n",
       "      <td>https://open.spotify.com/artist/1TtJviwBER44Os...</td>\n",
       "      <td>artist</td>\n",
       "    </tr>\n",
       "  </tbody>\n",
       "</table>\n",
       "</div>"
      ],
      "text/plain": [
       "    SINCE_DATE UNITIL_DATE                                        SPOTIFY_URL  \\\n",
       "42       MARCH       MARCH  https://open.spotify.com/artist/2DlbynS2Y7OsNE...   \n",
       "110      MARCH       MARCH  https://open.spotify.com/artist/28ij3pyntAbYO9...   \n",
       "164      MARCH       MARCH  https://open.spotify.com/artist/1hRs60foVmjwBi...   \n",
       "244      MARCH       MARCH  https://open.spotify.com/artist/7yibHBJHi3LZD0...   \n",
       "248      MARCH       MARCH  https://open.spotify.com/artist/1TtJviwBER44Os...   \n",
       "\n",
       "    TYPE_URL  \n",
       "42    artist  \n",
       "110   artist  \n",
       "164   artist  \n",
       "244   artist  \n",
       "248   artist  "
      ]
     },
     "execution_count": 14,
     "metadata": {},
     "output_type": "execute_result"
    }
   ],
   "source": [
    "artist_df = df[ df[\"TYPE_URL\"] == \"artist\" ]\n",
    "artist_df.head()"
   ]
  },
  {
   "cell_type": "code",
   "execution_count": 16,
   "metadata": {},
   "outputs": [
    {
     "data": {
      "text/plain": [
       "95"
      ]
     },
     "execution_count": 16,
     "metadata": {},
     "output_type": "execute_result"
    }
   ],
   "source": [
    "artist_list = artist_df[\"SPOTIFY_URL\"].to_list()\n",
    "len(artist_list)"
   ]
  },
  {
   "cell_type": "code",
   "execution_count": 19,
   "metadata": {},
   "outputs": [
    {
     "name": "stdout",
     "output_type": "stream",
     "text": [
      "1 - URL  https://open.spotify.com/artist/2DlbynS2Y7OsNEuY8ebBXy?si=48c6BoKeSnGzoDo43FBWDg PROCESSADA\n",
      "2 - URL  https://open.spotify.com/artist/28ij3pyntAbYO9zYreZ6At?si=3alLtxkwRnyzlrll7RHadg PROCESSADA\n",
      "3 - URL  https://open.spotify.com/artist/1hRs60foVmjwBiSesXnUdi?si=86U5ZU-NRVKIEPoUFOHsMQ PROCESSADA\n",
      "4 - URL  https://open.spotify.com/artist/7yibHBJHi3LZD0uvWAdyya?si=VStwHlz_SHuIhol6EGZecg PROCESSADA\n",
      "5 - URL  https://open.spotify.com/artist/1TtJviwBER44OsxxFbBVFD?si=iVsXHEDaQFGXG34vuJrkUw PROCESSADA\n",
      "6 - URL  https://open.spotify.com/artist/3pf38SigloNfNw1Zw7eIqV?si=BVnqVGRdQOGeyatboI65GA PROCESSADA\n",
      "7 - URL  https://open.spotify.com/artist/5X1ygeCsctWkDXqLg5IgFK?si=NAE-uLgORhKDFbmTj1Uakw PROCESSADA\n",
      "8 - URL  https://open.spotify.com/artist/3J0hGXonxzZRs0LT1tjpjn?si=hqWGUzg8TxyJeklVgeiqLQ PROCESSADA\n",
      "9 - URL  https://open.spotify.com/artist/3w1Q754jb31h5CXQCcnLNL?si=sL3UyL1TQbClwq2jAXUfKA PROCESSADA\n",
      "10 - URL  https://open.spotify.com/artist/1OZqzbkBydO3EyNtkcri3E?si=1xpP6PdvQ_O1gKQytBYyQw PROCESSADA\n",
      "11 - URL  https://open.spotify.com/artist/6BnmXRCOnTy4iTBlbsgZ5J?si=RaJ_VEBpQ2CRYuruYgR2Vg PROCESSADA\n",
      "12 - URL  https://open.spotify.com/artist/5ULBm9zT7mr8MpsmsQg04U?si=YzJsnKAKQV-xSHOWTeIH3Q PROCESSADA\n",
      "13 - URL  https://open.spotify.com/artist/0CTJiQNG3g0TdKwXpxIDXY?si=uC140Sz2TzGSkM7qYpGuqQ PROCESSADA\n",
      "14 - URL  https://open.spotify.com/artist/26ZlELrh3ObMoiAqpJ5I7C?si=HrKAVsW_T6KIhBoBYY2-EA PROCESSADA\n",
      "15 - URL  https://open.spotify.com/artist/3bMxoALDz4DJM8pJG0bnvs?si=F1sW92PHQEOqRvUfPO6Kjw PROCESSADA\n",
      "16 - URL  https://open.spotify.com/artist/6KQAZUiYv11A88dogUnCeX PROCESSADA\n",
      "17 - URL  https://open.spotify.com/artist/2swOKl6YD3mMLs7UccGJCE?si=s0LqDv_8Qh22Gy4Cn88H3g PROCESSADA\n",
      "18 - URL  https://open.spotify.com/artist/3dA4s8pjI2aiUOGl2hAafP?si=CdcoHDmSRCWS9iEv1z__8Q PROCESSADA\n",
      "19 - URL  https://open.spotify.com/artist/3Hl3dCaBcrnvBAOMAW4nJR?si=bOTPGntGSTuIUAY69IEUUQ PROCESSADA\n",
      "20 - URL  https://open.spotify.com/artist/3DxtKajg4nhMlf0qBES7sz?si=S3cKS4BmSXyUGo9gcPPvRA PROCESSADA\n",
      "21 - URL  https://open.spotify.com/artist/2Gne4QdpwXzgAMVgJJ3zPB?si=qNMvtAG-TDqHlncSD6CS2w PROCESSADA\n",
      "22 - URL  https://open.spotify.com/artist/5dCuFngSPyOOnTAvrC7v2s?si=V9_l4KqrRxa7_byGxIXhgA PROCESSADA\n",
      "23 - URL  https://open.spotify.com/artist/5SdBWJVZE1UB5hLyVKr1v4?si=6436k547TtG1JVk-zzyE5g PROCESSADA\n",
      "24 - URL  https://open.spotify.com/artist/3aTJxwDLCqCNvjrG7USP1a?si=gVizU6rKTsGyajCKuEXUoQ PROCESSADA\n",
      "25 - URL  https://open.spotify.com/artist/4ZOUpOMhi9J1m11HPv1kuf?si=O0mikMuwSvmurgDMfapz8A PROCESSADA\n",
      "26 - URL  https://open.spotify.com/artist/5pIyXtfN8yhl8WyxPPEf4H?si=QsQjjlIETBmzqTxWkzjgFA PROCESSADA\n",
      "27 - URL  https://open.spotify.com/artist/7sfbBzYRCQL5IQZZuh1omE?si=BPvhx8w6QxelNZMHe3KPJg PROCESSADA\n",
      "28 - URL  https://open.spotify.com/artist/6eU0jV2eEZ8XTM7EmlguK6?si=tIpjGgQSS8ejI6vmkE-U9w PROCESSADA\n",
      "29 - URL  https://open.spotify.com/artist/1mCHLu4gizrN9PwHxKrJv4?si=uzMcIRDLRGKmqEGLYIKBWA PROCESSADA\n",
      "30 - URL  https://open.spotify.com/artist/0nMWT1fkSG5J4T2VIbYo2W PROCESSADA\n",
      "31 - URL  https://open.spotify.com/artist/5ZdJdt9kVbLR99Ev7QMz8f?si=GDs_l9SeTyKW3SKwztr_Xg PROCESSADA\n",
      "32 - URL  https://open.spotify.com/artist/3YruJq7RKIOBGPrWnJFMc2?si=6lGsLB-cR-eNK-yqPoSucw PROCESSADA\n",
      "33 - URL  https://open.spotify.com/artist/0SMhG4gXGD4gzLMMz08cQU?si=1Z8wO8DVTTO4ZMkD_YOqKQ PROCESSADA\n",
      "34 - URL  https://open.spotify.com/artist/1TktlxbqsHA0qptVyLK6mN?si=xc_wCbmlRAWJlYnsLKxyAQ PROCESSADA\n",
      "35 - URL  https://open.spotify.com/artist/3Dcsox9DZQThz2dMzumPlM?si=-mvq7giYSteKPWhHjrzslg PROCESSADA\n",
      "36 - URL  https://open.spotify.com/artist/7hRrJtYXWLsKcI9v1hYKDC?si=CPgYeAoGRUy-wJ7Don5lWA PROCESSADA\n",
      "37 - URL  https://open.spotify.com/artist/717wokHGfBLVAO7ZItnhox?si=ZYgjgGaXTiyQyeH6uATotQ PROCESSADA\n",
      "38 - URL  https://open.spotify.com/artist/08g7FOpaQFr1PfmtNphSfc?si=yS-97IqxR1qgCibZ8u5nIA PROCESSADA\n",
      "39 - URL  https://open.spotify.com/artist/7IT602R3dxW4wkRVAc9cMx?si=66s0OMu7QaS--BOWPlfAfw PROCESSADA\n",
      "40 - URL  https://open.spotify.com/artist/0DkDDZISqXcS3FULxGLSgv?si=UaOzycFxSfmWTAaxoTlvSQ PROCESSADA\n",
      "41 - URL  https://open.spotify.com/artist/2aqRkgdFPFcNyazZ9fPu4P?si=gAPmNZgxRbyUM2C2vQm4yg PROCESSADA\n",
      "42 - URL  https://open.spotify.com/artist/1KoRj2ZFjBc0xgcgMNBMIX?si=4nJc_VifQzisnwMEKaMZRQ PROCESSADA\n",
      "43 - URL  https://open.spotify.com/artist/2R57sY41L9XvGPiIgHOaYq?si=ppNSYdSuSqezy4EQQRSBAA PROCESSADA\n",
      "44 - URL  https://open.spotify.com/artist/082vDMJAfkNZ3U13mjBYfY?si=Pv1AEThwQBq1hWHKyis_vA PROCESSADA\n",
      "45 - URL  https://open.spotify.com/artist/4V8LLVI7PbaPR0K2TGSxFF?si=IXZPlpC2S3OjyYKt0UYKgQ PROCESSADA\n",
      "46 - URL  https://open.spotify.com/artist/6wH6iStAh4KIaWfuhf0NYM?si=lcHNpciZRwqtL0F_n2uocw PROCESSADA\n",
      "47 - URL  https://open.spotify.com/artist/0cq6Tbku7Qw55YlYYniM5n?si=k05OlHPzTRO5IpOhuIY2kw PROCESSADA\n",
      "48 - URL  https://open.spotify.com/artist/40wqylYHmPn7bf8jPZrbU9?si=fiMDW1nTQnODNGGF2zLGKw PROCESSADA\n",
      "49 - URL  https://open.spotify.com/artist/7dE6oU3khUCwf6DILN81Bw?si=JKLjnBuhSEKsT2KinlxHQw PROCESSADA\n",
      "50 - URL  https://open.spotify.com/artist/58jNpWpytY91kdBtNsrVzP?si=_eQUXV1YSO2-_Quhre2Q2A PROCESSADA\n",
      "51 - URL  https://open.spotify.com/artist/6AlWPHIpy82e6Df5t7QeQ4?si=sOV2odMNRxW50oK-6Nvzyg PROCESSADA\n",
      "52 - URL  https://open.spotify.com/artist/3YLlfcDiFzKJXhTK4sKuCz?si=S0tjeNH0TMyr0IgJh3PzsQ PROCESSADA\n",
      "53 - URL  https://open.spotify.com/artist/1s5cQM9XuMrwTVIMveh67Q?si=UxtSpoFqSZSjPnOAVMcU7w PROCESSADA\n",
      "54 - URL  https://open.spotify.com/artist/3fe6vZXmAeP3FX4S3quctH?si=TY425XUuSlKDDZa94AgGwQ PROCESSADA\n",
      "55 - URL  https://open.spotify.com/artist/75mHLBYFbMKuruNf6NnOnW?si=sr_UKvdiTzWIoImo3VA_ew PROCESSADA\n",
      "56 - URL  https://open.spotify.com/artist/7BwVrHAfnsZGFLf3IN9VLP?si=DBiIFehGS6iLH71Q7qNvow PROCESSADA\n",
      "57 - URL  https://open.spotify.com/artist/776Uo845nYHJpNaStv1Ds4?si=zbmY82FrSli4NQb0Pogklg PROCESSADA\n",
      "58 - URL  https://open.spotify.com/artist/4Nh3ICy8AGv8vK2GuyVn7C?si=qafBTrFeQqKmGOmGwaCkQg PROCESSADA\n",
      "59 - URL  https://open.spotify.com/artist/6guWADQT05te9OzkjxM4V4?si=MRyz76CISo6wWbwwERGJbw PROCESSADA\n",
      "60 - URL  https://open.spotify.com/artist/3g2kUQ6tHLLbmkV7T4GPtL?si=QN9WMja_Qsy5pYOh_V-y2w PROCESSADA\n",
      "61 - URL  https://open.spotify.com/artist/3JsaihYkRDSTkIgQbxSUto?si=T3hUvevURNGYXNMyUgCiOg PROCESSADA\n",
      "62 - URL  https://open.spotify.com/artist/7hNN4fktsunuWdXNCmBD6u?si=VstzhTbeTKy422rM1Z8ltg PROCESSADA\n",
      "63 - URL  https://open.spotify.com/artist/1gNLLMWhJZROY7rJNbp3lx?si=kghkr-miSgejxOXF0V5Bhg PROCESSADA\n",
      "64 - URL  https://open.spotify.com/artist/0xNRgIAgqBPH7ALZjiRA4y PROCESSADA\n",
      "65 - URL  https://open.spotify.com/artist/48paIr3ELoxEJfdPeKWewJ?si=YLiIiMwIQEikBNBcToMp1g PROCESSADA\n",
      "66 - URL  https://open.spotify.com/artist/7qxo9RTWfEoFKN7XGtNV6V?si=FVq53FgDRkmd1oryU-x0dw PROCESSADA\n",
      "67 - URL  https://open.spotify.com/artist/5VBKgK6OKCsyxx11296lhS?si=ZKiRy88HTXOoM5rOG5bP_g PROCESSADA\n",
      "68 - URL  https://open.spotify.com/artist/4oLa7ncatxzN4uLeNKuOje?si=s3TOuXBzSGSUq8RxB4eS8g PROCESSADA\n",
      "69 - URL  https://open.spotify.com/artist/5QL7LDuBcqHYlHYTIAM0qQ?si=4g2FogAGTnWJLpsZ_S_n_g PROCESSADA\n",
      "70 - URL  https://open.spotify.com/artist/2dizYFpOXeSJ1dXusxKcjv?si=2CMdgiRIQUWh8rt_LFiu4w PROCESSADA\n",
      "71 - URL  https://open.spotify.com/artist/4X643f1ZpT1xm9ipFkDHvd?si=GX-HwQwNRzy-vtPGgJt9ow PROCESSADA\n",
      "72 - URL  https://open.spotify.com/artist/2d9LRvQJnAXRijqIJDDs2K?si=ZELaa0WoQvKE1hpgKQWJsQ PROCESSADA\n",
      "73 - URL  https://open.spotify.com/artist/4Y5qgDXn00DKoDAY0CnABH?si=ojTbpMmHRO6S7D1ADjn8Tg PROCESSADA\n",
      "74 - URL  https://open.spotify.com/artist/093ybF4c81CndQe6qWtc8S?si=E7y7LHpMS9Wqeuq03QunUg PROCESSADA\n",
      "75 - URL  https://open.spotify.com/artist/2d0hyoQ5ynDBnkvAbJKORj?si=280eQWcFQ6GKLwRi2sFzNg PROCESSADA\n",
      "76 - URL  https://open.spotify.com/artist/0Y4inQK6OespitzD6ijMwb?si=719WHJY_RnusMUPK2hVR9A PROCESSADA\n",
      "77 - URL  https://open.spotify.com/artist/2YV0znbUQRfPfYPm77ZpKs?si=zDUPq6xhQ9GI3hfRiwJdaQ PROCESSADA\n",
      "78 - URL  https://open.spotify.com/artist/556WMlmSNuJzN0CieckOZo?si=UnxISJDuQfGiZUgw2AWoRg PROCESSADA\n",
      "79 - URL  https://open.spotify.com/artist/5WwEQwX3ruZofwDDqtOXwI?si=hhJHx_FmSuOOloOx2dQy5Q PROCESSADA\n",
      "80 - URL  https://open.spotify.com/artist/1PymZfgPOAECGxEWeGMVhU?si=jWWU6YJUST2gYfSJKzILpw PROCESSADA\n",
      "81 - URL  https://open.spotify.com/artist/6irKXFXk2sPNmHtKqmrfuU?si=h8oztS0qQZuhJonj8pHQNA PROCESSADA\n",
      "82 - URL  https://open.spotify.com/artist/6jYyNHS7SqCikFZ77fTLnQ?si=L5eo5kO1SFqpUPhAuiPtDg PROCESSADA\n",
      "83 - URL  https://open.spotify.com/artist/0delzWoq5mTblqttAtUHK4?si=4-krgQ0TRSeKV7Qbl6ajkQ PROCESSADA\n",
      "84 - URL  https://open.spotify.com/artist/3qm84nBOXUEQ2vnTfUTTFC?si=tSe-XjLETGi9ZBiCZ2Vjsg PROCESSADA\n",
      "85 - URL  https://open.spotify.com/artist/1YzCsTRb22dQkh9lghPIrp?si=M4gS-XL4RrqiNWCQk178eA PROCESSADA\n",
      "86 - URL  https://open.spotify.com/artist/2i6gflTD2LPHKa7DacT9w5?si=fQlN-EGFRLOALLaT0SiDNQ PROCESSADA\n",
      "87 - URL  https://open.spotify.com/artist/7x2a9uyqlWbE9LwcoQWDTo?si=n_P5NeUWS3ml2eRMpy29aQ PROCESSADA\n",
      "88 - URL  https://open.spotify.com/artist/6tOsSffQQIXmK8TqsDck8t?si=Oq_ASi28QsK5J2SiSvLPdA PROCESSADA\n",
      "89 - URL  https://open.spotify.com/artist/1pk1stIyHnuK6lXZ8QiNKt?si=_gt_f1VOStS84FHDeD_4-Q PROCESSADA\n",
      "90 - URL  https://open.spotify.com/artist/22nkIVS7afh6A7hdd9Lze0?si=cIFMmUAHRTaVSHpMWzcMuA PROCESSADA\n",
      "91 - URL  https://open.spotify.com/artist/05JKxKNky9inqapbLBTKY8?si=vlIDqpIVQEG1jED0fnJlUA PROCESSADA\n",
      "92 - URL  https://open.spotify.com/artist/2omcmiReN5NE9JTiqigJ6f?si=kgx3Dh7hRjm_uyy4Kd9I8Q PROCESSADA\n",
      "93 - URL  https://open.spotify.com/artist/4WsyWYo2mMdzvnj1MDn01a?si=l4mH8YYkROGXk571paDlrA PROCESSADA\n",
      "94 - URL  https://open.spotify.com/artist/1Db5GsIoVWYktPoD2nnPZZ?si=X6_4eDENT0qasYi4bk-7MA PROCESSADA\n",
      "95 - URL  https://open.spotify.com/artist/7oEkUINVIj1Nr3Wnj8tzqr?si=_toSOjwYS8GOzfugXFR95Q PROCESSADA\n"
     ]
    }
   ],
   "source": [
    "list_spotify_data = []\n",
    "\n",
    "cont = 1\n",
    "for url in artist_list:\n",
    "    \n",
    "    try:\n",
    "        audio_features = sp.artist(url)\n",
    "        list_spotify_data.append(audio_features)\n",
    "        \n",
    "        print(cont, \"- URL \", url, \"PROCESSADA\")\n",
    "        cont+=1\n",
    "        \n",
    "    except:\n",
    "        print(\"Erro ao processar \", url)"
   ]
  },
  {
   "cell_type": "markdown",
   "metadata": {},
   "source": [
    "## Criando um dataframe apenas com os dados das músicas coletadas"
   ]
  },
  {
   "cell_type": "code",
   "execution_count": 21,
   "metadata": {},
   "outputs": [
    {
     "data": {
      "text/html": [
       "<div>\n",
       "<style scoped>\n",
       "    .dataframe tbody tr th:only-of-type {\n",
       "        vertical-align: middle;\n",
       "    }\n",
       "\n",
       "    .dataframe tbody tr th {\n",
       "        vertical-align: top;\n",
       "    }\n",
       "\n",
       "    .dataframe thead th {\n",
       "        text-align: right;\n",
       "    }\n",
       "</style>\n",
       "<table border=\"1\" class=\"dataframe\">\n",
       "  <thead>\n",
       "    <tr style=\"text-align: right;\">\n",
       "      <th></th>\n",
       "      <th>external_urls</th>\n",
       "      <th>followers</th>\n",
       "      <th>genres</th>\n",
       "      <th>href</th>\n",
       "      <th>id</th>\n",
       "      <th>images</th>\n",
       "      <th>name</th>\n",
       "      <th>popularity</th>\n",
       "      <th>type</th>\n",
       "      <th>uri</th>\n",
       "    </tr>\n",
       "  </thead>\n",
       "  <tbody>\n",
       "    <tr>\n",
       "      <th>0</th>\n",
       "      <td>{'spotify': 'https://open.spotify.com/artist/2...</td>\n",
       "      <td>{'href': None, 'total': 49}</td>\n",
       "      <td>[]</td>\n",
       "      <td>https://api.spotify.com/v1/artists/2DlbynS2Y7O...</td>\n",
       "      <td>2DlbynS2Y7OsNEuY8ebBXy</td>\n",
       "      <td>[{'height': 640, 'url': 'https://i.scdn.co/ima...</td>\n",
       "      <td>Katey Bell</td>\n",
       "      <td>1</td>\n",
       "      <td>artist</td>\n",
       "      <td>spotify:artist:2DlbynS2Y7OsNEuY8ebBXy</td>\n",
       "    </tr>\n",
       "    <tr>\n",
       "      <th>1</th>\n",
       "      <td>{'spotify': 'https://open.spotify.com/artist/2...</td>\n",
       "      <td>{'href': None, 'total': 79}</td>\n",
       "      <td>[]</td>\n",
       "      <td>https://api.spotify.com/v1/artists/28ij3pyntAb...</td>\n",
       "      <td>28ij3pyntAbYO9zYreZ6At</td>\n",
       "      <td>[{'height': 640, 'url': 'https://i.scdn.co/ima...</td>\n",
       "      <td>Fred Silveira</td>\n",
       "      <td>5</td>\n",
       "      <td>artist</td>\n",
       "      <td>spotify:artist:28ij3pyntAbYO9zYreZ6At</td>\n",
       "    </tr>\n",
       "    <tr>\n",
       "      <th>2</th>\n",
       "      <td>{'spotify': 'https://open.spotify.com/artist/1...</td>\n",
       "      <td>{'href': None, 'total': 847}</td>\n",
       "      <td>[]</td>\n",
       "      <td>https://api.spotify.com/v1/artists/1hRs60foVmj...</td>\n",
       "      <td>1hRs60foVmjwBiSesXnUdi</td>\n",
       "      <td>[{'height': 640, 'url': 'https://i.scdn.co/ima...</td>\n",
       "      <td>Julia Bardo</td>\n",
       "      <td>32</td>\n",
       "      <td>artist</td>\n",
       "      <td>spotify:artist:1hRs60foVmjwBiSesXnUdi</td>\n",
       "    </tr>\n",
       "    <tr>\n",
       "      <th>3</th>\n",
       "      <td>{'spotify': 'https://open.spotify.com/artist/7...</td>\n",
       "      <td>{'href': None, 'total': 3530}</td>\n",
       "      <td>[serbian electronic]</td>\n",
       "      <td>https://api.spotify.com/v1/artists/7yibHBJHi3L...</td>\n",
       "      <td>7yibHBJHi3LZD0uvWAdyya</td>\n",
       "      <td>[{'height': 640, 'url': 'https://i.scdn.co/ima...</td>\n",
       "      <td>Coeus</td>\n",
       "      <td>34</td>\n",
       "      <td>artist</td>\n",
       "      <td>spotify:artist:7yibHBJHi3LZD0uvWAdyya</td>\n",
       "    </tr>\n",
       "    <tr>\n",
       "      <th>4</th>\n",
       "      <td>{'spotify': 'https://open.spotify.com/artist/1...</td>\n",
       "      <td>{'href': None, 'total': 42}</td>\n",
       "      <td>[]</td>\n",
       "      <td>https://api.spotify.com/v1/artists/1TtJviwBER4...</td>\n",
       "      <td>1TtJviwBER44OsxxFbBVFD</td>\n",
       "      <td>[{'height': 640, 'url': 'https://i.scdn.co/ima...</td>\n",
       "      <td>Supernova</td>\n",
       "      <td>1</td>\n",
       "      <td>artist</td>\n",
       "      <td>spotify:artist:1TtJviwBER44OsxxFbBVFD</td>\n",
       "    </tr>\n",
       "  </tbody>\n",
       "</table>\n",
       "</div>"
      ],
      "text/plain": [
       "                                       external_urls  \\\n",
       "0  {'spotify': 'https://open.spotify.com/artist/2...   \n",
       "1  {'spotify': 'https://open.spotify.com/artist/2...   \n",
       "2  {'spotify': 'https://open.spotify.com/artist/1...   \n",
       "3  {'spotify': 'https://open.spotify.com/artist/7...   \n",
       "4  {'spotify': 'https://open.spotify.com/artist/1...   \n",
       "\n",
       "                       followers                genres  \\\n",
       "0    {'href': None, 'total': 49}                    []   \n",
       "1    {'href': None, 'total': 79}                    []   \n",
       "2   {'href': None, 'total': 847}                    []   \n",
       "3  {'href': None, 'total': 3530}  [serbian electronic]   \n",
       "4    {'href': None, 'total': 42}                    []   \n",
       "\n",
       "                                                href                      id  \\\n",
       "0  https://api.spotify.com/v1/artists/2DlbynS2Y7O...  2DlbynS2Y7OsNEuY8ebBXy   \n",
       "1  https://api.spotify.com/v1/artists/28ij3pyntAb...  28ij3pyntAbYO9zYreZ6At   \n",
       "2  https://api.spotify.com/v1/artists/1hRs60foVmj...  1hRs60foVmjwBiSesXnUdi   \n",
       "3  https://api.spotify.com/v1/artists/7yibHBJHi3L...  7yibHBJHi3LZD0uvWAdyya   \n",
       "4  https://api.spotify.com/v1/artists/1TtJviwBER4...  1TtJviwBER44OsxxFbBVFD   \n",
       "\n",
       "                                              images           name  \\\n",
       "0  [{'height': 640, 'url': 'https://i.scdn.co/ima...     Katey Bell   \n",
       "1  [{'height': 640, 'url': 'https://i.scdn.co/ima...  Fred Silveira   \n",
       "2  [{'height': 640, 'url': 'https://i.scdn.co/ima...    Julia Bardo   \n",
       "3  [{'height': 640, 'url': 'https://i.scdn.co/ima...          Coeus   \n",
       "4  [{'height': 640, 'url': 'https://i.scdn.co/ima...      Supernova   \n",
       "\n",
       "   popularity    type                                    uri  \n",
       "0           1  artist  spotify:artist:2DlbynS2Y7OsNEuY8ebBXy  \n",
       "1           5  artist  spotify:artist:28ij3pyntAbYO9zYreZ6At  \n",
       "2          32  artist  spotify:artist:1hRs60foVmjwBiSesXnUdi  \n",
       "3          34  artist  spotify:artist:7yibHBJHi3LZD0uvWAdyya  \n",
       "4           1  artist  spotify:artist:1TtJviwBER44OsxxFbBVFD  "
      ]
     },
     "execution_count": 21,
     "metadata": {},
     "output_type": "execute_result"
    }
   ],
   "source": [
    "df = pd.DataFrame(list_spotify_data)\n",
    "df.head()"
   ]
  },
  {
   "cell_type": "code",
   "execution_count": 22,
   "metadata": {},
   "outputs": [
    {
     "data": {
      "text/plain": [
       "Index(['external_urls', 'followers', 'genres', 'href', 'id', 'images', 'name',\n",
       "       'popularity', 'type', 'uri'],\n",
       "      dtype='object')"
      ]
     },
     "execution_count": 22,
     "metadata": {},
     "output_type": "execute_result"
    }
   ],
   "source": [
    "df.columns"
   ]
  },
  {
   "cell_type": "code",
   "execution_count": 26,
   "metadata": {},
   "outputs": [
    {
     "data": {
      "text/html": [
       "<div>\n",
       "<style scoped>\n",
       "    .dataframe tbody tr th:only-of-type {\n",
       "        vertical-align: middle;\n",
       "    }\n",
       "\n",
       "    .dataframe tbody tr th {\n",
       "        vertical-align: top;\n",
       "    }\n",
       "\n",
       "    .dataframe thead th {\n",
       "        text-align: right;\n",
       "    }\n",
       "</style>\n",
       "<table border=\"1\" class=\"dataframe\">\n",
       "  <thead>\n",
       "    <tr style=\"text-align: right;\">\n",
       "      <th></th>\n",
       "      <th>name</th>\n",
       "      <th>count</th>\n",
       "    </tr>\n",
       "  </thead>\n",
       "  <tbody>\n",
       "    <tr>\n",
       "      <th>0</th>\n",
       "      <td>Acantilados</td>\n",
       "      <td>1</td>\n",
       "    </tr>\n",
       "    <tr>\n",
       "      <th>60</th>\n",
       "      <td>Ombligo</td>\n",
       "      <td>1</td>\n",
       "    </tr>\n",
       "    <tr>\n",
       "      <th>69</th>\n",
       "      <td>SAFA</td>\n",
       "      <td>1</td>\n",
       "    </tr>\n",
       "    <tr>\n",
       "      <th>68</th>\n",
       "      <td>Ricky Rocha</td>\n",
       "      <td>1</td>\n",
       "    </tr>\n",
       "    <tr>\n",
       "      <th>67</th>\n",
       "      <td>Refalypse</td>\n",
       "      <td>1</td>\n",
       "    </tr>\n",
       "    <tr>\n",
       "      <th>...</th>\n",
       "      <td>...</td>\n",
       "      <td>...</td>\n",
       "    </tr>\n",
       "    <tr>\n",
       "      <th>29</th>\n",
       "      <td>Electric Feel</td>\n",
       "      <td>1</td>\n",
       "    </tr>\n",
       "    <tr>\n",
       "      <th>28</th>\n",
       "      <td>E.G.A.N</td>\n",
       "      <td>1</td>\n",
       "    </tr>\n",
       "    <tr>\n",
       "      <th>27</th>\n",
       "      <td>Dominguinhos</td>\n",
       "      <td>1</td>\n",
       "    </tr>\n",
       "    <tr>\n",
       "      <th>26</th>\n",
       "      <td>Dois Quartos</td>\n",
       "      <td>1</td>\n",
       "    </tr>\n",
       "    <tr>\n",
       "      <th>94</th>\n",
       "      <td>offgh0st</td>\n",
       "      <td>1</td>\n",
       "    </tr>\n",
       "  </tbody>\n",
       "</table>\n",
       "<p>95 rows × 2 columns</p>\n",
       "</div>"
      ],
      "text/plain": [
       "             name  count\n",
       "0     Acantilados      1\n",
       "60        Ombligo      1\n",
       "69           SAFA      1\n",
       "68    Ricky Rocha      1\n",
       "67      Refalypse      1\n",
       "..            ...    ...\n",
       "29  Electric Feel      1\n",
       "28        E.G.A.N      1\n",
       "27   Dominguinhos      1\n",
       "26   Dois Quartos      1\n",
       "94       offgh0st      1\n",
       "\n",
       "[95 rows x 2 columns]"
      ]
     },
     "execution_count": 26,
     "metadata": {},
     "output_type": "execute_result"
    }
   ],
   "source": [
    "df.groupby(\"name\").size().reset_index(name='count').sort_values([\"count\"], ascending=False)"
   ]
  },
  {
   "cell_type": "code",
   "execution_count": null,
   "metadata": {},
   "outputs": [],
   "source": []
  }
 ],
 "metadata": {
  "kernelspec": {
   "display_name": "Python 3",
   "language": "python",
   "name": "python3"
  },
  "language_info": {
   "codemirror_mode": {
    "name": "ipython",
    "version": 3
   },
   "file_extension": ".py",
   "mimetype": "text/x-python",
   "name": "python",
   "nbconvert_exporter": "python",
   "pygments_lexer": "ipython3",
   "version": "3.8.5"
  }
 },
 "nbformat": 4,
 "nbformat_minor": 4
}
